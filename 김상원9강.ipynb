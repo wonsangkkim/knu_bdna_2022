{
  "nbformat": 4,
  "nbformat_minor": 0,
  "metadata": {
    "colab": {
      "name": "김상원9강.ipynb",
      "provenance": [],
      "collapsed_sections": [],
      "include_colab_link": true
    },
    "kernelspec": {
      "name": "python3",
      "display_name": "Python 3"
    },
    "language_info": {
      "name": "python"
    }
  },
  "cells": [
    {
      "cell_type": "markdown",
      "metadata": {
        "id": "view-in-github",
        "colab_type": "text"
      },
      "source": [
        "<a href=\"https://colab.research.google.com/github/wonsangkkim/knu_bdna_2022/blob/main/%EA%B9%80%EC%83%81%EC%9B%909%EA%B0%95.ipynb\" target=\"_parent\"><img src=\"https://colab.research.google.com/assets/colab-badge.svg\" alt=\"Open In Colab\"/></a>"
      ]
    },
    {
      "cell_type": "code",
      "execution_count": 1,
      "metadata": {
        "colab": {
          "base_uri": "https://localhost:8080/"
        },
        "id": "f4O85WsgMf24",
        "outputId": "099a1d3d-cec9-4226-d787-5aaac6734ad0"
      },
      "outputs": [
        {
          "output_type": "stream",
          "name": "stdout",
          "text": [
            "Collecting mglearn\n",
            "  Downloading mglearn-0.1.9.tar.gz (540 kB)\n",
            "\u001b[K     |████████████████████████████████| 540 kB 4.0 MB/s \n",
            "\u001b[?25hRequirement already satisfied: numpy in /usr/local/lib/python3.7/dist-packages (from mglearn) (1.21.6)\n",
            "Requirement already satisfied: matplotlib in /usr/local/lib/python3.7/dist-packages (from mglearn) (3.2.2)\n",
            "Requirement already satisfied: scikit-learn in /usr/local/lib/python3.7/dist-packages (from mglearn) (1.0.2)\n",
            "Requirement already satisfied: pandas in /usr/local/lib/python3.7/dist-packages (from mglearn) (1.3.5)\n",
            "Requirement already satisfied: pillow in /usr/local/lib/python3.7/dist-packages (from mglearn) (7.1.2)\n",
            "Requirement already satisfied: cycler in /usr/local/lib/python3.7/dist-packages (from mglearn) (0.11.0)\n",
            "Requirement already satisfied: imageio in /usr/local/lib/python3.7/dist-packages (from mglearn) (2.4.1)\n",
            "Requirement already satisfied: joblib in /usr/local/lib/python3.7/dist-packages (from mglearn) (1.1.0)\n",
            "Requirement already satisfied: pyparsing!=2.0.4,!=2.1.2,!=2.1.6,>=2.0.1 in /usr/local/lib/python3.7/dist-packages (from matplotlib->mglearn) (3.0.9)\n",
            "Requirement already satisfied: python-dateutil>=2.1 in /usr/local/lib/python3.7/dist-packages (from matplotlib->mglearn) (2.8.2)\n",
            "Requirement already satisfied: kiwisolver>=1.0.1 in /usr/local/lib/python3.7/dist-packages (from matplotlib->mglearn) (1.4.2)\n",
            "Requirement already satisfied: typing-extensions in /usr/local/lib/python3.7/dist-packages (from kiwisolver>=1.0.1->matplotlib->mglearn) (4.2.0)\n",
            "Requirement already satisfied: six>=1.5 in /usr/local/lib/python3.7/dist-packages (from python-dateutil>=2.1->matplotlib->mglearn) (1.15.0)\n",
            "Requirement already satisfied: pytz>=2017.3 in /usr/local/lib/python3.7/dist-packages (from pandas->mglearn) (2022.1)\n",
            "Requirement already satisfied: threadpoolctl>=2.0.0 in /usr/local/lib/python3.7/dist-packages (from scikit-learn->mglearn) (3.1.0)\n",
            "Requirement already satisfied: scipy>=1.1.0 in /usr/local/lib/python3.7/dist-packages (from scikit-learn->mglearn) (1.4.1)\n",
            "Building wheels for collected packages: mglearn\n",
            "  Building wheel for mglearn (setup.py) ... \u001b[?25l\u001b[?25hdone\n",
            "  Created wheel for mglearn: filename=mglearn-0.1.9-py2.py3-none-any.whl size=582639 sha256=cbb5cefeebde67572972f45029086b2e5d29dd7e7239294873911a9f0de0fe89\n",
            "  Stored in directory: /root/.cache/pip/wheels/f1/17/e1/1720d6dcd70187b6b6c3750cb3508798f2b1d57c9d3214b08b\n",
            "Successfully built mglearn\n",
            "Installing collected packages: mglearn\n",
            "Successfully installed mglearn-0.1.9\n"
          ]
        }
      ],
      "source": [
        "import matplotlib.pyplot as plt\n",
        "!pip install mglearn\n",
        "import mglearn"
      ]
    },
    {
      "cell_type": "code",
      "source": [
        "X,y=mglearn.datasets.make_wave(n_samples=60)\n",
        "plt.plot(X,y,'ko')"
      ],
      "metadata": {
        "colab": {
          "base_uri": "https://localhost:8080/",
          "height": 282
        },
        "id": "69J_mizIMpJ2",
        "outputId": "e220e751-aa87-45be-d31f-9917c92238d5"
      },
      "execution_count": 3,
      "outputs": [
        {
          "output_type": "execute_result",
          "data": {
            "text/plain": [
              "[<matplotlib.lines.Line2D at 0x7fd4c9f60950>]"
            ]
          },
          "metadata": {},
          "execution_count": 3
        },
        {
          "output_type": "display_data",
          "data": {
            "text/plain": [
              "<Figure size 432x288 with 1 Axes>"
            ],
            "image/png": "[encoded data removed]"
          },
          "metadata": {
            "needs_background": "light"
          }
        }
      ]
    },
    {
      "cell_type": "code",
      "source": [
        "from sklearn.model_selection import train_test_split"
      ],
      "metadata": {
        "id": "wUKvsL7KM19j"
      },
      "execution_count": 4,
      "outputs": []
    },
    {
      "cell_type": "code",
      "source": [
        "X_train, X_test, y_train, y_test = train_test_split(X, y, random_state=42)"
      ],
      "metadata": {
        "id": "IfaaO7ffN-Te"
      },
      "execution_count": 5,
      "outputs": []
    },
    {
      "cell_type": "code",
      "source": [
        "from sklearn.linear_model import LinearRegression"
      ],
      "metadata": {
        "id": "b4TFUlgDODpi"
      },
      "execution_count": 6,
      "outputs": []
    },
    {
      "cell_type": "code",
      "source": [
        "Ir=LinearRegression()\n",
        "Ir.fit(X_train,y_train)"
      ],
      "metadata": {
        "colab": {
          "base_uri": "https://localhost:8080/"
        },
        "id": "53NBKB09OVhX",
        "outputId": "1463407d-ece6-4b54-cbeb-fbf4a39f1267"
      },
      "execution_count": 7,
      "outputs": [
        {
          "output_type": "execute_result",
          "data": {
            "text/plain": [
              "LinearRegression()"
            ]
          },
          "metadata": {},
          "execution_count": 7
        }
      ]
    },
    {
      "cell_type": "code",
      "source": [
        "print(\"weight:\", Ir.coef_)\n",
        "print(\"bias:\", Ir.intercept_)"
      ],
      "metadata": {
        "colab": {
          "base_uri": "https://localhost:8080/"
        },
        "id": "UBrV5W8dOds8",
        "outputId": "6a8dfbca-47b7-4bb4-a5d1-6737a0706088"
      },
      "execution_count": 8,
      "outputs": [
        {
          "output_type": "stream",
          "name": "stdout",
          "text": [
            "weight: [0.39390555]\n",
            "bias: -0.031804343026759746\n"
          ]
        }
      ]
    },
    {
      "cell_type": "code",
      "source": [
        "print(\"Train Accuracy:{:.2f}\".format(Ir.score(X_train,y_train)))\n",
        "print(\"Test Accuracy:{:.2f}\".format(Ir.score(X_test,y_test)))"
      ],
      "metadata": {
        "colab": {
          "base_uri": "https://localhost:8080/"
        },
        "id": "IzCDBMPoP_Ar",
        "outputId": "c90a602a-82a6-4641-851c-1ab35106aeeb"
      },
      "execution_count": 9,
      "outputs": [
        {
          "output_type": "stream",
          "name": "stdout",
          "text": [
            "Train Accuracy:0.67\n",
            "Test Accuracy:0.66\n"
          ]
        }
      ]
    },
    {
      "cell_type": "code",
      "source": [
        "from sklearn.datasets import load_boston\n",
        "X, y = mglearn.datasets.load_extended_boston()"
      ],
      "metadata": {
        "colab": {
          "base_uri": "https://localhost:8080/"
        },
        "id": "YXAlNhDoRTS5",
        "outputId": "8bd322e1-fb5f-4ade-ac6f-a0b5143e7da0"
      },
      "execution_count": 10,
      "outputs": [
        {
          "output_type": "stream",
          "name": "stderr",
          "text": [
            "/usr/local/lib/python3.7/dist-packages/sklearn/utils/deprecation.py:87: FutureWarning: Function load_boston is deprecated; `load_boston` is deprecated in 1.0 and will be removed in 1.2.\n",
            "\n",
            "    The Boston housing prices dataset has an ethical problem. You can refer to\n",
            "    the documentation of this function for further details.\n",
            "\n",
            "    The scikit-learn maintainers therefore strongly discourage the use of this\n",
            "    dataset unless the purpose of the code is to study and educate about\n",
            "    ethical issues in data science and machine learning.\n",
            "\n",
            "    In this special case, you can fetch the dataset from the original\n",
            "    source::\n",
            "\n",
            "        import pandas as pd\n",
            "        import numpy as np\n",
            "\n",
            "\n",
            "        data_url = \"http://lib.stat.cmu.edu/datasets/boston\"\n",
            "        raw_df = pd.read_csv(data_url, sep=\"\\s+\", skiprows=22, header=None)\n",
            "        data = np.hstack([raw_df.values[::2, :], raw_df.values[1::2, :2]])\n",
            "        target = raw_df.values[1::2, 2]\n",
            "\n",
            "    Alternative datasets include the California housing dataset (i.e.\n",
            "    :func:`~sklearn.datasets.fetch_california_housing`) and the Ames housing\n",
            "    dataset. You can load the datasets as follows::\n",
            "\n",
            "        from sklearn.datasets import fetch_california_housing\n",
            "        housing = fetch_california_housing()\n",
            "\n",
            "    for the California housing dataset and::\n",
            "\n",
            "        from sklearn.datasets import fetch_openml\n",
            "        housing = fetch_openml(name=\"house_prices\", as_frame=True)\n",
            "\n",
            "    for the Ames housing dataset.\n",
            "    \n",
            "  warnings.warn(msg, category=FutureWarning)\n"
          ]
        }
      ]
    },
    {
      "cell_type": "code",
      "source": [
        "X.shape"
      ],
      "metadata": {
        "colab": {
          "base_uri": "https://localhost:8080/"
        },
        "id": "k0XXaJ17QdxO",
        "outputId": "ce4766b3-8212-4dac-f676-0a53410d8b2f"
      },
      "execution_count": 11,
      "outputs": [
        {
          "output_type": "execute_result",
          "data": {
            "text/plain": [
              "(506, 104)"
            ]
          },
          "metadata": {},
          "execution_count": 11
        }
      ]
    },
    {
      "cell_type": "code",
      "source": [
        "y.shape"
      ],
      "metadata": {
        "colab": {
          "base_uri": "https://localhost:8080/"
        },
        "id": "cNG6cj9cQg03",
        "outputId": "30139949-2d1d-40cd-fbcf-a00dd3403621"
      },
      "execution_count": 12,
      "outputs": [
        {
          "output_type": "execute_result",
          "data": {
            "text/plain": [
              "(506,)"
            ]
          },
          "metadata": {},
          "execution_count": 12
        }
      ]
    },
    {
      "cell_type": "code",
      "source": [
        "X_train, X_test, y_train, y_test = train_test_split(X, y, random_state=0)"
      ],
      "metadata": {
        "id": "wzN-px0WQiO7"
      },
      "execution_count": 13,
      "outputs": []
    },
    {
      "cell_type": "code",
      "source": [
        "Ir=LinearRegression().fit(X_train,y_train)"
      ],
      "metadata": {
        "id": "mB7kCjm6QmdM"
      },
      "execution_count": 14,
      "outputs": []
    },
    {
      "cell_type": "code",
      "source": [
        "print(\"Train Accuracy:{:.2f}\".format(Ir.score(X_train,y_train)))\n",
        "print(\"Test Accuracy:{:.2f}\".format(Ir.score(X_test,y_test)))"
      ],
      "metadata": {
        "colab": {
          "base_uri": "https://localhost:8080/"
        },
        "id": "2fPRDfE-QsFw",
        "outputId": "79e9f322-1517-436b-88d2-26d8721f79cb"
      },
      "execution_count": 15,
      "outputs": [
        {
          "output_type": "stream",
          "name": "stdout",
          "text": [
            "Train Accuracy:0.95\n",
            "Test Accuracy:0.61\n"
          ]
        }
      ]
    },
    {
      "cell_type": "code",
      "source": [
        "from sklearn.linear_model import Ridge"
      ],
      "metadata": {
        "id": "byW2zjMJSxR4"
      },
      "execution_count": 16,
      "outputs": []
    },
    {
      "cell_type": "code",
      "source": [
        "ridge = Ridge().fit(X_train, y_train)"
      ],
      "metadata": {
        "id": "ldGjVmh8S2cX"
      },
      "execution_count": 17,
      "outputs": []
    },
    {
      "cell_type": "code",
      "source": [
        "print(\"Train Accuracy: {:.4f}\".format(ridge.score(X_train, y_train)))\n",
        "print(\"Test Accuracy: {:.4f}\".format(ridge.score(X_test, y_test)))"
      ],
      "metadata": {
        "colab": {
          "base_uri": "https://localhost:8080/"
        },
        "id": "s_U425ksS3_d",
        "outputId": "fefdcb70-5cf1-4d97-d50a-6c3340e23b99"
      },
      "execution_count": 18,
      "outputs": [
        {
          "output_type": "stream",
          "name": "stdout",
          "text": [
            "Train Accuracy: 0.8858\n",
            "Test Accuracy: 0.7528\n"
          ]
        }
      ]
    },
    {
      "cell_type": "code",
      "source": [
        "print(\"Train Accuracy: {:.2f}\".format(Ir.score(X_train, y_train)))\n",
        "print(\"Test Accuracy: {:.2f}\".format(Ir.score(X_test, y_test)))"
      ],
      "metadata": {
        "colab": {
          "base_uri": "https://localhost:8080/"
        },
        "id": "O1EMEX6eTIkw",
        "outputId": "d85871a2-7589-4615-c18f-8586acb0b8db"
      },
      "execution_count": 19,
      "outputs": [
        {
          "output_type": "stream",
          "name": "stdout",
          "text": [
            "Train Accuracy: 0.95\n",
            "Test Accuracy: 0.61\n"
          ]
        }
      ]
    },
    {
      "cell_type": "code",
      "source": [
        "ridge01 = Ridge(alpha=0.1).fit(X_train, y_train)\n",
        "print(\"Train Accuracy: {:.4f}\".format(ridge01.score(X_train, y_train)))\n",
        "print(\"Test Accuracy : {:.4f}\".format(ridge01.score(X_test, y_test)))"
      ],
      "metadata": {
        "colab": {
          "base_uri": "https://localhost:8080/"
        },
        "id": "RgtnTkWlTQ4J",
        "outputId": "30d6bda3-c050-4511-e2f8-3bc3d4915602"
      },
      "execution_count": 20,
      "outputs": [
        {
          "output_type": "stream",
          "name": "stdout",
          "text": [
            "Train Accuracy: 0.9282\n",
            "Test Accuracy : 0.7722\n"
          ]
        }
      ]
    },
    {
      "cell_type": "code",
      "source": [
        "print(\"Train Accuracy: {:.4f}\".format(ridge.score(X_train, y_train)))\n",
        "print(\"Test Accuracy : {:.4f}\".format(ridge.score(X_test, y_test)))"
      ],
      "metadata": {
        "colab": {
          "base_uri": "https://localhost:8080/"
        },
        "id": "9etY0oWYU5sH",
        "outputId": "d83e8e60-9f71-41e5-d235-8892e303624e"
      },
      "execution_count": 21,
      "outputs": [
        {
          "output_type": "stream",
          "name": "stdout",
          "text": [
            "Train Accuracy: 0.8858\n",
            "Test Accuracy : 0.7528\n"
          ]
        }
      ]
    },
    {
      "cell_type": "code",
      "source": [
        "import numpy as np"
      ],
      "metadata": {
        "id": "u273fJo2Vimu"
      },
      "execution_count": 22,
      "outputs": []
    },
    {
      "cell_type": "code",
      "source": [
        "alpha=np.linspace(0,1,1000)"
      ],
      "metadata": {
        "id": "-CAmX3l4VJxq"
      },
      "execution_count": 23,
      "outputs": []
    },
    {
      "cell_type": "code",
      "source": [
        "training_accuracy=[]\n",
        "test_accuracy=[]\n",
        "iteration=[]\n",
        "for i in range(1000):\n",
        "  ridge=Ridge(alpha=alpha[i]).fit(X_train,y_train)\n",
        "  training_accuracy.append(ridge.score(X_train,y_train))\n",
        "  test_accuracy.append(ridge.score(X_test,y_test))\n",
        "  iteration.append(i)"
      ],
      "metadata": {
        "id": "tGEt--x3VsQp"
      },
      "execution_count": 24,
      "outputs": []
    },
    {
      "cell_type": "code",
      "source": [
        "plt.plot(alpha,training_accuracy)\n",
        "plt.plot(alpha,test_accuracy)"
      ],
      "metadata": {
        "colab": {
          "base_uri": "https://localhost:8080/",
          "height": 282
        },
        "id": "U-Z2T0FXWcJO",
        "outputId": "6c6c3bd5-dd9a-45b2-a59e-8702c1b9fab1"
      },
      "execution_count": 25,
      "outputs": [
        {
          "output_type": "execute_result",
          "data": {
            "text/plain": [
              "[<matplotlib.lines.Line2D at 0x7fd4c5634210>]"
            ]
          },
          "metadata": {},
          "execution_count": 25
        },
        {
          "output_type": "display_data",
          "data": {
            "text/plain": [
              "<Figure size 432x288 with 1 Axes>"
            ],
            "image/png": "[encoded data removed]"
          },
          "metadata": {
            "needs_background": "light"
          }
        }
      ]
    },
    {
      "cell_type": "code",
      "source": [
        "np.argmax(test_accuracy)"
      ],
      "metadata": {
        "colab": {
          "base_uri": "https://localhost:8080/"
        },
        "id": "xO4k7bgMWsq7",
        "outputId": "c57a05e2-e200-419d-9fb6-37805a6e4f13"
      },
      "execution_count": 26,
      "outputs": [
        {
          "output_type": "execute_result",
          "data": {
            "text/plain": [
              "184"
            ]
          },
          "metadata": {},
          "execution_count": 26
        }
      ]
    },
    {
      "cell_type": "code",
      "source": [
        "alpha[184]"
      ],
      "metadata": {
        "colab": {
          "base_uri": "https://localhost:8080/"
        },
        "id": "dNdx3CYqZrCR",
        "outputId": "5bffceff-9ec0-47ba-ca17-0990f76688de"
      },
      "execution_count": 27,
      "outputs": [
        {
          "output_type": "execute_result",
          "data": {
            "text/plain": [
              "0.1841841841841842"
            ]
          },
          "metadata": {},
          "execution_count": 27
        }
      ]
    },
    {
      "cell_type": "code",
      "source": [
        "plt.plot(alpha, training_accuracy, label='Training accuracy')\n",
        "plt.plot(alpha, test_accuracy, label='Test accuracy')\n",
        "plt.plot(alpha[184], test_accuracy[184],'ko')\n",
        "plt.xlabel('alpha')\n",
        "plt.ylabel('Score (R^2)')\n",
        "plt.legend()\n",
        "plt.show()"
      ],
      "metadata": {
        "colab": {
          "base_uri": "https://localhost:8080/",
          "height": 279
        },
        "id": "h2v901eqZt7b",
        "outputId": "45d3b2a2-6c64-41d2-ec0f-67f57b9cd16e"
      },
      "execution_count": 28,
      "outputs": [
        {
          "output_type": "display_data",
          "data": {
            "text/plain": [
              "<Figure size 432x288 with 1 Axes>"
            ],
            "image/png": "[encoded data removed]"
          },
          "metadata": {
            "needs_background": "light"
          }
        }
      ]
    },
    {
      "cell_type": "code",
      "source": [
        "mglearn.plots.plot_ridge_n_samples()"
      ],
      "metadata": {
        "colab": {
          "base_uri": "https://localhost:8080/",
          "height": 950
        },
        "id": "GYRHRJCXavVV",
        "outputId": "e3edb0a6-de45-4e3f-ed78-1670ed7e774e"
      },
      "execution_count": 29,
      "outputs": [
        {
          "output_type": "stream",
          "name": "stderr",
          "text": [
            "/usr/local/lib/python3.7/dist-packages/sklearn/utils/deprecation.py:87: FutureWarning: Function load_boston is deprecated; `load_boston` is deprecated in 1.0 and will be removed in 1.2.\n",
            "\n",
            "    The Boston housing prices dataset has an ethical problem. You can refer to\n",
            "    the documentation of this function for further details.\n",
            "\n",
            "    The scikit-learn maintainers therefore strongly discourage the use of this\n",
            "    dataset unless the purpose of the code is to study and educate about\n",
            "    ethical issues in data science and machine learning.\n",
            "\n",
            "    In this special case, you can fetch the dataset from the original\n",
            "    source::\n",
            "\n",
            "        import pandas as pd\n",
            "        import numpy as np\n",
            "\n",
            "\n",
            "        data_url = \"http://lib.stat.cmu.edu/datasets/boston\"\n",
            "        raw_df = pd.read_csv(data_url, sep=\"\\s+\", skiprows=22, header=None)\n",
            "        data = np.hstack([raw_df.values[::2, :], raw_df.values[1::2, :2]])\n",
            "        target = raw_df.values[1::2, 2]\n",
            "\n",
            "    Alternative datasets include the California housing dataset (i.e.\n",
            "    :func:`~sklearn.datasets.fetch_california_housing`) and the Ames housing\n",
            "    dataset. You can load the datasets as follows::\n",
            "\n",
            "        from sklearn.datasets import fetch_california_housing\n",
            "        housing = fetch_california_housing()\n",
            "\n",
            "    for the California housing dataset and::\n",
            "\n",
            "        from sklearn.datasets import fetch_openml\n",
            "        housing = fetch_openml(name=\"house_prices\", as_frame=True)\n",
            "\n",
            "    for the Ames housing dataset.\n",
            "    \n",
            "  warnings.warn(msg, category=FutureWarning)\n"
          ]
        },
        {
          "output_type": "display_data",
          "data": {
            "text/plain": [
              "<Figure size 432x288 with 1 Axes>"
            ],
            "image/png": "[encoded data removed]"
          },
          "metadata": {
            "needs_background": "light"
          }
        }
      ]
    },
    {
      "cell_type": "code",
      "source": [
        "ridge10 = Ridge(alpha=10).fit(X_train, y_train)\n",
        "print(\"Train Accuracy: {:.4f}\".format(ridge10.score(X_train, y_train)))\n",
        "print(\"Test Accuracy : {:.4f}\".format(ridge10.score(X_test, y_test)))"
      ],
      "metadata": {
        "colab": {
          "base_uri": "https://localhost:8080/"
        },
        "id": "VMEPeYGiddQ_",
        "outputId": "9fd1c952-03d4-421d-c288-f8bdc42cac95"
      },
      "execution_count": 30,
      "outputs": [
        {
          "output_type": "stream",
          "name": "stdout",
          "text": [
            "Train Accuracy: 0.7883\n",
            "Test Accuracy : 0.6359\n"
          ]
        }
      ]
    },
    {
      "cell_type": "code",
      "source": [
        "ridge1 = Ridge(alpha=1).fit(X_train, y_train)\n",
        "print(\"Train Accuracy: {:.4f}\".format(ridge1.score(X_train, y_train)))\n",
        "print(\"Test Accuracy : {:.4f}\".format(ridge1.score(X_test, y_test)))"
      ],
      "metadata": {
        "colab": {
          "base_uri": "https://localhost:8080/"
        },
        "id": "EsUG-hCcdvnm",
        "outputId": "1017214e-ea12-4b65-9644-54455290482a"
      },
      "execution_count": 31,
      "outputs": [
        {
          "output_type": "stream",
          "name": "stdout",
          "text": [
            "Train Accuracy: 0.8858\n",
            "Test Accuracy : 0.7528\n"
          ]
        }
      ]
    },
    {
      "cell_type": "code",
      "source": [
        "plt.plot(ridge10.coef_, 'ko', label=\"Ridge alpha=10\")\n",
        "plt.plot(ridge1.coef_, 'b*', label=\"Ridge alpha=1\")\n",
        "plt.plot(ridge01.coef_, 'gs', label=\"Ridge alpha=0.1\")\n",
        "plt.xlabel('i')\n",
        "plt.ylabel('\\_i')\n",
        "plt.legend()\n",
        "plt.show()"
      ],
      "metadata": {
        "colab": {
          "base_uri": "https://localhost:8080/",
          "height": 279
        },
        "id": "q_8skbIsa-z_",
        "outputId": "72ddc477-24c6-419f-a4a0-02fc2f75e216"
      },
      "execution_count": 32,
      "outputs": [
        {
          "output_type": "display_data",
          "data": {
            "text/plain": [
              "<Figure size 432x288 with 1 Axes>"
            ],
            "image/png": "[encoded data removed]"
          },
          "metadata": {
            "needs_background": "light"
          }
        }
      ]
    },
    {
      "cell_type": "code",
      "source": [
        "from sklearn.linear_model import Lasso"
      ],
      "metadata": {
        "id": "L-rSNqJNejhz"
      },
      "execution_count": 33,
      "outputs": []
    },
    {
      "cell_type": "code",
      "source": [
        "lasso=Lasso().fit(X_train, y_train)"
      ],
      "metadata": {
        "id": "WBmLqqYLew5o"
      },
      "execution_count": 34,
      "outputs": []
    },
    {
      "cell_type": "code",
      "source": [
        "print('Training Accuracy: {:.2f}'.format(lasso.score(X_train, y_train)))\n",
        "print('Test Accuracy: {:.2f}'.format(lasso.score(X_test, y_test)))\n",
        "print('Number of features used:', np.sum(lasso.coef_ !=0))"
      ],
      "metadata": {
        "colab": {
          "base_uri": "https://localhost:8080/"
        },
        "id": "02GdT4Dme9ZU",
        "outputId": "ac042db6-73cc-4eef-d95c-650ae2e75cd9"
      },
      "execution_count": 35,
      "outputs": [
        {
          "output_type": "stream",
          "name": "stdout",
          "text": [
            "Training Accuracy: 0.29\n",
            "Test Accuracy: 0.21\n",
            "Number of features used: 4\n"
          ]
        }
      ]
    },
    {
      "cell_type": "code",
      "source": [
        "lasso = Lasso(alpha=0.1).fit(X_train, y_train)\n",
        "print('Training Accuracy: {:.2f}'.format(lasso.score(X_train, y_train)))\n",
        "print('Test Accuracy: {:.2f}'.format(lasso.score(X_test, y_test)))\n",
        "print('Number of features used:', np.sum(lasso.coef_ !=0))"
      ],
      "metadata": {
        "colab": {
          "base_uri": "https://localhost:8080/"
        },
        "id": "mRdWeF3GgaFB",
        "outputId": "f7c385ea-bb1c-42f1-d3d6-62ec56197fdb"
      },
      "execution_count": 36,
      "outputs": [
        {
          "output_type": "stream",
          "name": "stdout",
          "text": [
            "Training Accuracy: 0.77\n",
            "Test Accuracy: 0.63\n",
            "Number of features used: 8\n"
          ]
        }
      ]
    },
    {
      "cell_type": "code",
      "source": [
        "lasso = Lasso(alpha=0.01, max_iter=1000000).fit(X_train, y_train)\n",
        "print('Training Accuracy: {:.2f}'.format(lasso.score(X_train, y_train)))\n",
        "print('Test Accuracy: {:.2f}'.format(lasso.score(X_test, y_test)))\n",
        "print('Number of features used:', np.sum(lasso.coef_ !=0))"
      ],
      "metadata": {
        "colab": {
          "base_uri": "https://localhost:8080/"
        },
        "id": "wcrAtZcTi_yh",
        "outputId": "d102405d-4d66-4861-cd44-a781c2a466e8"
      },
      "execution_count": 37,
      "outputs": [
        {
          "output_type": "stream",
          "name": "stdout",
          "text": [
            "Training Accuracy: 0.90\n",
            "Test Accuracy: 0.77\n",
            "Number of features used: 33\n"
          ]
        }
      ]
    },
    {
      "cell_type": "code",
      "source": [
        "lasso = Lasso(alpha=0.0001, max_iter=1000000).fit(X_train, y_train)\n",
        "print('Training Accuracy: {:.2f}'.format(lasso.score(X_train, y_train)))\n",
        "print('Test Accuracy: {:.2f}'.format(lasso.score(X_test, y_test)))\n",
        "print('Number of features used:', np.sum(lasso.coef_ !=0))"
      ],
      "metadata": {
        "colab": {
          "base_uri": "https://localhost:8080/"
        },
        "id": "Uxv8tpaJmS5Y",
        "outputId": "86fc2afc-6aec-418e-8d22-7860fd70b863"
      },
      "execution_count": 38,
      "outputs": [
        {
          "output_type": "stream",
          "name": "stdout",
          "text": [
            "Training Accuracy: 0.95\n",
            "Test Accuracy: 0.64\n",
            "Number of features used: 96\n"
          ]
        }
      ]
    },
    {
      "cell_type": "code",
      "source": [
        "lasso = Lasso(alpha=0.01, max_iter=1000000).fit(X_train, y_train)\n",
        "print('Training Accuracy: {:.2f}'.format(lasso.score(X_train, y_train)))\n",
        "print('Test Accuracy: {:.2f}'.format(lasso.score(X_test, y_test)))\n",
        "print('Number of features used:', np.sum(lasso.coef_ !=0))"
      ],
      "metadata": {
        "colab": {
          "base_uri": "https://localhost:8080/"
        },
        "id": "9q1_dEp-mbPv",
        "outputId": "7fbf70f3-e3da-450f-ba36-4660fbbb0781"
      },
      "execution_count": 40,
      "outputs": [
        {
          "output_type": "stream",
          "name": "stdout",
          "text": [
            "Training Accuracy: 0.90\n",
            "Test Accuracy: 0.77\n",
            "Number of features used: 33\n"
          ]
        }
      ]
    },
    {
      "cell_type": "code",
      "source": [
        "print('Training Accuracy: {:.4f}'.format(ridge.score(X_train, y_train)))\n",
        "print('Test Accuracy: {:.4f}'.format(ridge.score(X_test, y_test)))"
      ],
      "metadata": {
        "colab": {
          "base_uri": "https://localhost:8080/"
        },
        "id": "AOlSjbx9mkUF",
        "outputId": "14ab9a3e-350d-4df2-d1ca-1e69b3c7b674"
      },
      "execution_count": 41,
      "outputs": [
        {
          "output_type": "stream",
          "name": "stdout",
          "text": [
            "Training Accuracy: 0.8858\n",
            "Test Accuracy: 0.7528\n"
          ]
        }
      ]
    },
    {
      "cell_type": "code",
      "source": [
        "print('Training Accuracy: {:.2f}'.format(Ir.score(X_train, y_train)))\n",
        "print('Test Accuracy: {:.2f}'.format(Ir.score(X_test, y_test)))"
      ],
      "metadata": {
        "colab": {
          "base_uri": "https://localhost:8080/"
        },
        "id": "i_B4yR2Lmq5y",
        "outputId": "dcb94e4b-5550-41da-832e-90dc1ad0417f"
      },
      "execution_count": 42,
      "outputs": [
        {
          "output_type": "stream",
          "name": "stdout",
          "text": [
            "Training Accuracy: 0.95\n",
            "Test Accuracy: 0.61\n"
          ]
        }
      ]
    }
  ]
}